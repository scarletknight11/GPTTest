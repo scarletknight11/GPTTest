{
 "cells": [
  {
   "cell_type": "code",
   "id": "initial_id",
   "metadata": {
    "collapsed": true,
    "ExecuteTime": {
     "end_time": "2025-06-30T15:33:19.091185Z",
     "start_time": "2025-06-30T15:33:19.062185Z"
    }
   },
   "source": [
    "import pandas as pd\n",
    "from sklearn.model_selection import train_test_split, GridSearchCV\n",
    "\n",
    "# Load CSV file into DataFrame\n",
    "df = pd.read_csv('PinConversation.csv')\n",
    "\n",
    "# Get last column as target variable\n",
    "X = df.iloc[:, :-1]\n",
    "y = df.iloc[:, -1]\n",
    "\n",
    "# Splitting the dataset into training and testing sets\n",
    "X_train, X_test, y_train, y_test = train_test_split(X, y, test_size=0.2, random_state=42)\n"
   ],
   "outputs": [],
   "execution_count": 2
  },
  {
   "metadata": {
    "ExecuteTime": {
     "end_time": "2025-06-30T18:48:20.439143Z",
     "start_time": "2025-06-30T18:48:20.350963Z"
    }
   },
   "cell_type": "code",
   "source": [
    "import csv\n",
    "import numpy as np\n",
    "import pandas as pd\n",
    "\n",
    "FILE_NAME = 'spambase.data'\n",
    "\n",
    "data = np.genfromtxt(FILE_NAME, delimiter=',', dtype=np.float32, skip_header=1)\n",
    "\n",
    "print(data.shape, type(data[0][0]))\n",
    "n_samples, n_features = data.shape\n",
    "n_features -= 1\n",
    "X = data[:,0:n_features]\n",
    "y = data[:,n_features]\n",
    "print(X.shape, y.shape)\n",
    "print(X[0,0:5])\n",
    "\n",
    "df = pd.read_csv(FILE_NAME, header=None, delimiter=',', dtype=np.float32, skiprows=1)\n",
    "data = df.to_numpy()\n",
    "n_samples, n_features = data.shape\n",
    "n_features -= 1\n",
    "X = data[:,0:n_features]\n",
    "y = data[:,n_features]\n",
    "print(X.shape, y.shape)\n",
    "print(X[0,0:5])\n"
   ],
   "id": "a34b9dbd1809dcd3",
   "outputs": [
    {
     "name": "stdout",
     "output_type": "stream",
     "text": [
      "(4601, 58) <class 'numpy.float32'>\n",
      "(4601, 57) (4601,)\n",
      "[0.   0.64 0.64 0.   0.32]\n",
      "(4601, 57) (4601,)\n",
      "[0.   0.64 0.64 0.   0.32]\n"
     ]
    }
   ],
   "execution_count": 21
  },
  {
   "metadata": {},
   "cell_type": "code",
   "outputs": [],
   "execution_count": null,
   "source": "",
   "id": "839963a1f2eb478a"
  }
 ],
 "metadata": {
  "kernelspec": {
   "display_name": "Python 3",
   "language": "python",
   "name": "python3"
  },
  "language_info": {
   "codemirror_mode": {
    "name": "ipython",
    "version": 2
   },
   "file_extension": ".py",
   "mimetype": "text/x-python",
   "name": "python",
   "nbconvert_exporter": "python",
   "pygments_lexer": "ipython2",
   "version": "2.7.6"
  }
 },
 "nbformat": 4,
 "nbformat_minor": 5
}
